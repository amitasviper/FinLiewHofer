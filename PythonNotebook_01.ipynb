{
 "cells": [
  {
   "cell_type": "markdown",
   "metadata": {},
   "source": [
    "# Jupyter Notebook Introduction"
   ]
  },
  {
   "cell_type": "markdown",
   "metadata": {},
   "source": [
    "__Jupyter Notebooks__ were first targeted for languages named __Julia__, __Python__ and __R__, but now you can create notebooks for over 100 languages."
   ]
  },
  {
   "cell_type": "markdown",
   "metadata": {},
   "source": [
    "## Installation\n",
    "Jupyter notebook can be installed in either of the following ways.\n",
    "\n",
    "1. [Installing Anaconda](https://www.continuum.io/downloads)\n",
    "2. By running the command `pip install jupyter` in your terminal. If you use Python 3.x, then replace `pip` with `pip3`.\n",
    "3. If you have [Docker](https://www.docker.com/get-docker) installed on your system, then you can run Jupyter noteboon inside docker using this command `docker run --rm -it -p 8888:8888 -v \"$(pwd):/notebooks\" jupyter/notebook `. \n",
    "\n",
    "If you do not wish to install anything on you system, then you may beg your friend to allow you to connect to the jupyter server running on their system."
   ]
  },
  {
   "cell_type": "markdown",
   "metadata": {},
   "source": [
    "## Start Jupyter Notebook Server\n",
    "To start the jupyter notebook server run this command in your terminal\n",
    "`jupyter notebook` or `jupyter notebook --ip='0.0.0.0'` if you wish to access the server over the network.\n",
    "\n",
    "If the above command executes without any error then you should be able to see a webpage similar to the image give below if you open the address `http://127.0.0.1:8888/` from you favourite web browser.\n",
    "\n",
    "<img src=\"data/home.png\">"
   ]
  },
  {
   "cell_type": "markdown",
   "metadata": {},
   "source": [
    "## Cells\n",
    "Cells are the basic units of a jupyter notebook. Everything(code and markdown) is written inside a cell. A cell\n",
    "can be executed independently within a notebook.\n",
    "\n",
    "To execute a cell, select the cell and press the &#9658; `Run` button from the toolbar given above or hit `Shift` + `Return` key on the keyboard."
   ]
  },
  {
   "cell_type": "markdown",
   "metadata": {},
   "source": [
    "## Some very useful shortcuts\n",
    "\n",
    "S.No| Operation Desciption                                                   | Key Combination     \n",
    "----|------------------------------------------------------------------------|----------------------\n",
    "1.  | Insert a new cell __above__ the current cell.                          |   `a`                \n",
    "2.  | Insert a new cell __below__ the current cell.                          |   `b`                    \n",
    "3.  | Delete the current selected cell and its contents.                     |   `dd`                  \n",
    "4.  | Cut the current cell.                                                  |   `X`                  \n",
    "5.  | Paste the cell below the current cell.                                 |   `V`                \n",
    "6.  | Merge the current cell and cell below it.                              |   `Shift-M`        \n",
    "7.  | Split the cell into two from the cursor position.                      |   `Ctrl-Shift--`      \n",
    "8.  | To navigate between the cell. Move up or down.                         |   &uarr; &darr;       \n",
    "9.  | To open the magic window to get the list of operations you can perform.|  `CMD-Shift-P`        "
   ]
  },
  {
   "cell_type": "markdown",
   "metadata": {},
   "source": [
    "## Include LaTex Maths"
   ]
  },
  {
   "cell_type": "markdown",
   "metadata": {},
   "source": [
    "$$c = \\sqrt{a^2 + b^2}$$"
   ]
  },
  {
   "cell_type": "markdown",
   "metadata": {},
   "source": [
    "### For the next part please install numpy, pandas and matplotlib by executing below given command on your terminal."
   ]
  },
  {
   "cell_type": "markdown",
   "metadata": {},
   "source": [
    "\n",
    "- pip install numpy\n",
    "- pip install pandas\n",
    "- pip install matplotlib"
   ]
  },
  {
   "cell_type": "code",
   "execution_count": null,
   "metadata": {},
   "outputs": [],
   "source": []
  }
 ],
 "metadata": {
  "kernelspec": {
   "display_name": "Python 2",
   "language": "python",
   "name": "python2"
  },
  "language_info": {
   "codemirror_mode": {
    "name": "ipython",
    "version": 2
   },
   "file_extension": ".py",
   "mimetype": "text/x-python",
   "name": "python",
   "nbconvert_exporter": "python",
   "pygments_lexer": "ipython2",
   "version": "2.7.14"
  }
 },
 "nbformat": 4,
 "nbformat_minor": 2
}
